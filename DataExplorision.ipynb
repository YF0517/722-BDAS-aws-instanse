{
 "cells": [
  {
   "cell_type": "code",
   "execution_count": 2,
   "id": "e8c063eb",
   "metadata": {},
   "outputs": [],
   "source": [
    "# Must be included at the beginning of each new notebook. Remember to change the app name.\n",
    "import findspark\n",
    "findspark.init('/home/ubuntu/spark-3.2.1-bin-hadoop2.7')\n",
    "import pyspark\n",
    "from pyspark.sql import SparkSession\n",
    "spark = SparkSession.builder.appName('basics').getOrCreate()"
   ]
  },
  {
   "cell_type": "code",
   "execution_count": 3,
   "id": "8ca9d888",
   "metadata": {},
   "outputs": [],
   "source": [
    "df = spark.read.csv('data/tmdb_5000_movies_fixed1_fix.csv')"
   ]
  },
  {
   "cell_type": "code",
   "execution_count": 4,
   "id": "2b52d179",
   "metadata": {},
   "outputs": [
    {
     "name": "stdout",
     "output_type": "stream",
     "text": [
      "+------+---+-----------------+----------+-------+-------+------+-----+------------+----------+-----+------------+------------------+\n",
      "|   _c0|_c1|              _c2|       _c3|    _c4|    _c5|   _c6|  _c7|         _c8|       _c9| _c10|        _c11|              _c12|\n",
      "+------+---+-----------------+----------+-------+-------+------+-----+------------+----------+-----+------------+------------------+\n",
      "|budget| id|original_language|popularity|revenue|runtime|status|title|vote_average|vote_count|genre|release_date|production_country|\n",
      "+------+---+-----------------+----------+-------+-------+------+-----+------------+----------+-----+------------+------------------+\n",
      "only showing top 1 row\n",
      "\n"
     ]
    }
   ],
   "source": [
    "df.show(1)"
   ]
  },
  {
   "cell_type": "code",
   "execution_count": 5,
   "id": "57d0df46",
   "metadata": {},
   "outputs": [
    {
     "name": "stdout",
     "output_type": "stream",
     "text": [
      "root\n",
      " |-- _c0: string (nullable = true)\n",
      " |-- _c1: string (nullable = true)\n",
      " |-- _c2: string (nullable = true)\n",
      " |-- _c3: string (nullable = true)\n",
      " |-- _c4: string (nullable = true)\n",
      " |-- _c5: string (nullable = true)\n",
      " |-- _c6: string (nullable = true)\n",
      " |-- _c7: string (nullable = true)\n",
      " |-- _c8: string (nullable = true)\n",
      " |-- _c9: string (nullable = true)\n",
      " |-- _c10: string (nullable = true)\n",
      " |-- _c11: string (nullable = true)\n",
      " |-- _c12: string (nullable = true)\n",
      "\n"
     ]
    }
   ],
   "source": [
    "df.printSchema()"
   ]
  },
  {
   "cell_type": "code",
   "execution_count": 6,
   "id": "42520004",
   "metadata": {},
   "outputs": [
    {
     "data": {
      "image/png": "[encoded data removed]",
      "text/plain": [
       "<Figure size 432x288 with 1 Axes>"
      ]
     },
     "metadata": {
      "needs_background": "light"
     },
     "output_type": "display_data"
    },
    {
     "name": "stdout",
     "output_type": "stream",
     "text": [
      "['Crime', 'Romance', 'Thriller', None, 'others', 'Animation', 'Advanture', 'genre', 'Comedy', 'Action', 'Science fiction']\n"
     ]
    }
   ],
   "source": [
    "# Group by the correct column name \"_c10\" (assuming it contains genre information)\n",
    "genre_counts = df.groupBy(\"_c10\").count()\n",
    "\n",
    "# Convert to Pandas DataFrame for plotting\n",
    "genre_counts_pd = genre_counts.toPandas()\n",
    "\n",
    "# Plotting the bar plot\n",
    "import matplotlib.pyplot as plt\n",
    "\n",
    "genre_counts_pd.set_index(\"_c10\", inplace=True)\n",
    "genre_counts_pd.plot(kind='bar', legend=False)\n",
    "plt.xlabel('Genre')\n",
    "plt.ylabel('Frequency')\n",
    "plt.title('Frequency Distribution of Genres')\n",
    "plt.show()\n",
    "\n",
    "# Show unique genres\n",
    "unique_genres = df.select(\"_c10\").distinct().collect()\n",
    "unique_genres = [row['_c10'] for row in unique_genres]\n",
    "print(unique_genres)"
   ]
  }
 ],
 "metadata": {
  "kernelspec": {
   "display_name": "Python 3 (ipykernel)",
   "language": "python",
   "name": "python3"
  },
  "language_info": {
   "codemirror_mode": {
    "name": "ipython",
    "version": 3
   },
   "file_extension": ".py",
   "mimetype": "text/x-python",
   "name": "python",
   "nbconvert_exporter": "python",
   "pygments_lexer": "ipython3",
   "version": "3.10.4"
  }
 },
 "nbformat": 4,
 "nbformat_minor": 5
}
