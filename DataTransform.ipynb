{
 "cells": [
  {
   "cell_type": "code",
   "execution_count": 66,
   "id": "035f6af3",
   "metadata": {},
   "outputs": [],
   "source": [
    "# Must be included at the beginning of each new notebook. Remember to change the app name.\n",
    "import findspark\n",
    "findspark.init('/home/ubuntu/spark-3.2.1-bin-hadoop2.7')\n",
    "import pyspark\n",
    "from pyspark.sql import SparkSession\n",
    "spark = SparkSession.builder.appName('basics').getOrCreate()"
   ]
  },
  {
   "cell_type": "code",
   "execution_count": 67,
   "id": "113c8a5a",
   "metadata": {},
   "outputs": [],
   "source": [
    "df = spark.read.csv('data/merged.csv')"
   ]
  },
  {
   "cell_type": "code",
   "execution_count": 68,
   "id": "a36af4c3",
   "metadata": {},
   "outputs": [
    {
     "name": "stdout",
     "output_type": "stream",
     "text": [
      "+---------+----------+----------+---+---+-------+---------------+----------+--------------+----------+\n",
      "|      _c0|       _c1|       _c2|_c3|_c4|    _c5|            _c6|       _c7|           _c8|       _c9|\n",
      "+---------+----------+----------+---+---+-------+---------------+----------+--------------+----------+\n",
      "|300000000|139.082615| 961000000|169|6.9| 4500.0|         Action|2007-05-19|  united_state| 661000000|\n",
      "|245000000|107.376788| 880674609|148|6.3| 4466.0|         Action|2015-10-26|united_kingdom| 635674609|\n",
      "|250000000| 112.31295|1084939099|165|7.6| 9106.0|         Action|2012-07-16|  united_state| 834939099|\n",
      "|260000000| 43.926995| 284139100|132|6.1| 2124.0|         Action|2012-03-07|  united_state|  24139100|\n",
      "|260000000| 48.681969| 591794936|100|7.4| 3330.0|      Animation|2010-11-24|  united_state| 331794936|\n",
      "|280000000|134.279229|1405403694|141|7.3| 6767.0|         Action|2015-04-22|  united_state|1125403694|\n",
      "|250000000| 98.885637| 933959197|153|7.4| 5293.0|      Advanture|2009-07-07|united_kingdom| 683959197|\n",
      "|250000000|155.790452| 873260194|151|5.7| 7004.0|         Action|2016-03-23|  united_state| 623260194|\n",
      "|270000000| 57.925623| 391081192|154|5.4| 1400.0|         Action|2006-06-28|  united_state| 121081192|\n",
      "|200000000|107.928811| 586090727|106|6.1| 2965.0|      Advanture|2008-10-30|united_kingdom| 386090727|\n",
      "|200000000|145.847379|1065659812|151|7.0| 5246.0|      Advanture|2006-06-20|       jamaica| 865659812|\n",
      "|255000000| 49.046956|  89289910|149|5.9| 2311.0|         Action|2013-07-03|  united_state|-165710090|\n",
      "|225000000| 99.398009| 662845518|143|6.5| 6359.0|         Action|2013-06-12|united_kingdom| 437845518|\n",
      "|225000000| 53.978602| 419651413|150|6.3| 1630.0|      Advanture|2008-05-15|czech republic| 194651413|\n",
      "|220000000|144.448633|1519557910|143|7.4|11776.0|Science fiction|2012-04-25|  united_state|1299557910|\n",
      "|380000000|135.413856|1045713802|136|6.4| 4948.0|      Advanture|2011-05-14|  united_state| 665713802|\n",
      "|225000000| 52.035179| 624026776|106|6.2| 4160.0|         Action|2012-05-23|  united_state| 399026776|\n",
      "|250000000|120.965743| 956019788|144|7.1| 4760.0|         Action|2014-12-10|   new_zealand| 706019788|\n",
      "|215000000| 89.866276| 752215857|136|6.5| 6586.0|         Action|2012-06-27|  united_state| 537215857|\n",
      "|200000000| 37.668301| 310669540|140|6.2| 1398.0|         Action|2010-05-12|united_kingdom| 110669540|\n",
      "+---------+----------+----------+---+---+-------+---------------+----------+--------------+----------+\n",
      "only showing top 20 rows\n",
      "\n"
     ]
    }
   ],
   "source": [
    "df.show()"
   ]
  },
  {
   "cell_type": "code",
   "execution_count": 69,
   "id": "1763f602",
   "metadata": {},
   "outputs": [],
   "source": [
    "# Optionally, rename columns for better clarity\n",
    "df = df.withColumnRenamed(\"_c0\", \"budget\") \\\n",
    "       .withColumnRenamed(\"_c1\", \"popularity\") \\\n",
    "       .withColumnRenamed(\"_c2\", \"revenue\") \\\n",
    "       .withColumnRenamed(\"_c3\", \"runtime\") \\\n",
    "       .withColumnRenamed(\"_c4\", \"vote_average\") \\\n",
    "       .withColumnRenamed(\"_c5\", \"vote_count\") \\\n",
    "       .withColumnRenamed(\"_c6\", \"genre\") \\\n",
    "       .withColumnRenamed(\"_c7\", \"release_date\") \\\n",
    "       .withColumnRenamed(\"_c8\", \"production_country\")\\\n",
    "       .withColumnRenamed(\"_c9\", \"profit\")"
   ]
  },
  {
   "cell_type": "code",
   "execution_count": 70,
   "id": "476f029d",
   "metadata": {},
   "outputs": [
    {
     "name": "stdout",
     "output_type": "stream",
     "text": [
      "root\n",
      " |-- budget: integer (nullable = true)\n",
      " |-- popularity: double (nullable = true)\n",
      " |-- revenue: integer (nullable = true)\n",
      " |-- runtime: integer (nullable = true)\n",
      " |-- vote_average: double (nullable = true)\n",
      " |-- vote_count: integer (nullable = true)\n",
      " |-- genre: string (nullable = true)\n",
      " |-- release_date: date (nullable = true)\n",
      " |-- production_country: string (nullable = true)\n",
      " |-- profit: integer (nullable = true)\n",
      "\n",
      "+---------+----------+----------+-------+------------+----------+---------------+------------+------------------+----------+\n",
      "|   budget|popularity|   revenue|runtime|vote_average|vote_count|          genre|release_date|production_country|    profit|\n",
      "+---------+----------+----------+-------+------------+----------+---------------+------------+------------------+----------+\n",
      "|300000000|139.082615| 961000000|    169|         6.9|      4500|         Action|  2007-05-19|      united_state| 661000000|\n",
      "|245000000|107.376788| 880674609|    148|         6.3|      4466|         Action|  2015-10-26|    united_kingdom| 635674609|\n",
      "|250000000| 112.31295|1084939099|    165|         7.6|      9106|         Action|  2012-07-16|      united_state| 834939099|\n",
      "|260000000| 43.926995| 284139100|    132|         6.1|      2124|         Action|  2012-03-07|      united_state|  24139100|\n",
      "|260000000| 48.681969| 591794936|    100|         7.4|      3330|      Animation|  2010-11-24|      united_state| 331794936|\n",
      "|280000000|134.279229|1405403694|    141|         7.3|      6767|         Action|  2015-04-22|      united_state|1125403694|\n",
      "|250000000| 98.885637| 933959197|    153|         7.4|      5293|      Advanture|  2009-07-07|    united_kingdom| 683959197|\n",
      "|250000000|155.790452| 873260194|    151|         5.7|      7004|         Action|  2016-03-23|      united_state| 623260194|\n",
      "|270000000| 57.925623| 391081192|    154|         5.4|      1400|         Action|  2006-06-28|      united_state| 121081192|\n",
      "|200000000|107.928811| 586090727|    106|         6.1|      2965|      Advanture|  2008-10-30|    united_kingdom| 386090727|\n",
      "|200000000|145.847379|1065659812|    151|         7.0|      5246|      Advanture|  2006-06-20|           jamaica| 865659812|\n",
      "|255000000| 49.046956|  89289910|    149|         5.9|      2311|         Action|  2013-07-03|      united_state|-165710090|\n",
      "|225000000| 99.398009| 662845518|    143|         6.5|      6359|         Action|  2013-06-12|    united_kingdom| 437845518|\n",
      "|225000000| 53.978602| 419651413|    150|         6.3|      1630|      Advanture|  2008-05-15|    czech republic| 194651413|\n",
      "|220000000|144.448633|1519557910|    143|         7.4|     11776|Science fiction|  2012-04-25|      united_state|1299557910|\n",
      "|380000000|135.413856|1045713802|    136|         6.4|      4948|      Advanture|  2011-05-14|      united_state| 665713802|\n",
      "|225000000| 52.035179| 624026776|    106|         6.2|      4160|         Action|  2012-05-23|      united_state| 399026776|\n",
      "|250000000|120.965743| 956019788|    144|         7.1|      4760|         Action|  2014-12-10|       new_zealand| 706019788|\n",
      "|215000000| 89.866276| 752215857|    136|         6.5|      6586|         Action|  2012-06-27|      united_state| 537215857|\n",
      "|200000000| 37.668301| 310669540|    140|         6.2|      1398|         Action|  2010-05-12|    united_kingdom| 110669540|\n",
      "+---------+----------+----------+-------+------------+----------+---------------+------------+------------------+----------+\n",
      "only showing top 20 rows\n",
      "\n"
     ]
    }
   ],
   "source": [
    "from pyspark.sql.functions import col,to_date\n",
    "from pyspark.sql.types import IntegerType, DoubleType\n",
    "\n",
    "# Convert columns to the desired data types\n",
    "df = df.withColumn(\"budget\", df[\"budget\"].cast(IntegerType())) \\\n",
    "       .withColumn(\"popularity\", df[\"popularity\"].cast(DoubleType())) \\\n",
    "       .withColumn(\"revenue\", df[\"revenue\"].cast(IntegerType())) \\\n",
    "       .withColumn(\"runtime\", df[\"runtime\"].cast(IntegerType())) \\\n",
    "       .withColumn(\"vote_average\", df[\"vote_average\"].cast(DoubleType())) \\\n",
    "       .withColumn(\"vote_count\", df[\"vote_count\"].cast(IntegerType())) \\\n",
    "       .withColumn(\"release_date\", to_date(df[\"release_date\"], \"yyyy-MM-dd\")) \\\n",
    "       .withColumn(\"profit\", df[\"profit\"].cast(IntegerType()))\n",
    "\n",
    "# Optionally, show the schema to verify the changes\n",
    "df.printSchema()\n",
    "\n",
    "# Optionally, show a sample of the data\n",
    "df.show()"
   ]
  },
  {
   "cell_type": "markdown",
   "id": "13b42181",
   "metadata": {},
   "source": [
    "### generate more new features: risk and rank"
   ]
  },
  {
   "cell_type": "code",
   "execution_count": 71,
   "id": "89fb66e2",
   "metadata": {},
   "outputs": [],
   "source": [
    "from pyspark.ml.feature import Bucketizer\n",
    "\n",
    "# Define the number of bins\n",
    "num_bins = 2\n",
    "\n",
    "# Define the column to be discretized\n",
    "input_col = 'popularity'\n",
    "\n",
    "# Quantile-based discretization strategy\n",
    "quantile_discretizer = Bucketizer(splits=[float(\"-inf\"), 0.5, float(\"inf\")], inputCol=input_col, outputCol=input_col+'_rank')\n",
    "\n",
    "# Apply discretization to the DataFrame\n",
    "df_data_discretized = quantile_discretizer.transform(df)\n",
    "\n",
    "# Assign the discretized column back to the original DataFrame\n",
    "df_data = df_data_discretized.withColumnRenamed(input_col+'_rank', 'popularity_rank')\n"
   ]
  },
  {
   "cell_type": "code",
   "execution_count": 72,
   "id": "a5330210",
   "metadata": {},
   "outputs": [
    {
     "name": "stdout",
     "output_type": "stream",
     "text": [
      "+---------+----------+----------+-------+------------+----------+---------------+------------+------------------+----------+---------------+----+\n",
      "|   budget|popularity|   revenue|runtime|vote_average|vote_count|          genre|release_date|production_country|    profit|popularity_rank|risk|\n",
      "+---------+----------+----------+-------+------------+----------+---------------+------------+------------------+----------+---------------+----+\n",
      "|300000000|139.082615| 961000000|    169|         6.9|      4500|         Action|  2007-05-19|      united_state| 661000000|            1.0|   0|\n",
      "|245000000|107.376788| 880674609|    148|         6.3|      4466|         Action|  2015-10-26|    united_kingdom| 635674609|            1.0|   0|\n",
      "|250000000| 112.31295|1084939099|    165|         7.6|      9106|         Action|  2012-07-16|      united_state| 834939099|            1.0|   0|\n",
      "|260000000| 43.926995| 284139100|    132|         6.1|      2124|         Action|  2012-03-07|      united_state|  24139100|            1.0|   0|\n",
      "|260000000| 48.681969| 591794936|    100|         7.4|      3330|      Animation|  2010-11-24|      united_state| 331794936|            1.0|   0|\n",
      "|280000000|134.279229|1405403694|    141|         7.3|      6767|         Action|  2015-04-22|      united_state|1125403694|            1.0|   0|\n",
      "|250000000| 98.885637| 933959197|    153|         7.4|      5293|      Advanture|  2009-07-07|    united_kingdom| 683959197|            1.0|   0|\n",
      "|250000000|155.790452| 873260194|    151|         5.7|      7004|         Action|  2016-03-23|      united_state| 623260194|            1.0|   0|\n",
      "|270000000| 57.925623| 391081192|    154|         5.4|      1400|         Action|  2006-06-28|      united_state| 121081192|            1.0|   0|\n",
      "|200000000|107.928811| 586090727|    106|         6.1|      2965|      Advanture|  2008-10-30|    united_kingdom| 386090727|            1.0|   0|\n",
      "|200000000|145.847379|1065659812|    151|         7.0|      5246|      Advanture|  2006-06-20|           jamaica| 865659812|            1.0|   0|\n",
      "|255000000| 49.046956|  89289910|    149|         5.9|      2311|         Action|  2013-07-03|      united_state|-165710090|            1.0|   2|\n",
      "|225000000| 99.398009| 662845518|    143|         6.5|      6359|         Action|  2013-06-12|    united_kingdom| 437845518|            1.0|   0|\n",
      "|225000000| 53.978602| 419651413|    150|         6.3|      1630|      Advanture|  2008-05-15|    czech republic| 194651413|            1.0|   0|\n",
      "|220000000|144.448633|1519557910|    143|         7.4|     11776|Science fiction|  2012-04-25|      united_state|1299557910|            1.0|   0|\n",
      "|380000000|135.413856|1045713802|    136|         6.4|      4948|      Advanture|  2011-05-14|      united_state| 665713802|            1.0|   0|\n",
      "|225000000| 52.035179| 624026776|    106|         6.2|      4160|         Action|  2012-05-23|      united_state| 399026776|            1.0|   0|\n",
      "|250000000|120.965743| 956019788|    144|         7.1|      4760|         Action|  2014-12-10|       new_zealand| 706019788|            1.0|   0|\n",
      "|215000000| 89.866276| 752215857|    136|         6.5|      6586|         Action|  2012-06-27|      united_state| 537215857|            1.0|   0|\n",
      "|200000000| 37.668301| 310669540|    140|         6.2|      1398|         Action|  2010-05-12|    united_kingdom| 110669540|            1.0|   0|\n",
      "+---------+----------+----------+-------+------------+----------+---------------+------------+------------------+----------+---------------+----+\n",
      "only showing top 20 rows\n",
      "\n"
     ]
    }
   ],
   "source": [
    "# Define the number of bins\n",
    "num_bins = 3\n",
    "\n",
    "# Define the column to be discretized\n",
    "input_col = 'profit'\n",
    "\n",
    "# Quantile-based discretization strategy\n",
    "quantile_discretizer = Bucketizer(splits=[float(\"-inf\"), 0.333, 0.666, float(\"inf\")], inputCol=input_col, outputCol=input_col+'_bucket')\n",
    "\n",
    "# Apply discretization to the DataFrame\n",
    "df_data_discretized = quantile_discretizer.transform(df_data)\n",
    "\n",
    "# Reverse the order of the bins\n",
    "df_data_discretized = df_data_discretized.withColumn(input_col+'_bucket', (num_bins - 1 - col(input_col+'_bucket')).cast('integer'))\n",
    "\n",
    "# Assign the discretized column back to the original DataFrame\n",
    "df_data = df_data_discretized.withColumnRenamed(input_col+'_bucket', 'risk')\n",
    "\n",
    "df_data.show()"
   ]
  },
  {
   "cell_type": "code",
   "execution_count": 73,
   "id": "d3ebdda8",
   "metadata": {},
   "outputs": [
    {
     "name": "stdout",
     "output_type": "stream",
     "text": [
      "root\n",
      " |-- budget: integer (nullable = true)\n",
      " |-- popularity: double (nullable = true)\n",
      " |-- revenue: integer (nullable = true)\n",
      " |-- runtime: integer (nullable = true)\n",
      " |-- vote_average: double (nullable = true)\n",
      " |-- vote_count: integer (nullable = true)\n",
      " |-- genre: string (nullable = true)\n",
      " |-- release_date: date (nullable = true)\n",
      " |-- production_country: string (nullable = true)\n",
      " |-- profit: integer (nullable = true)\n",
      " |-- popularity_rank: string (nullable = true)\n",
      " |-- risk: integer (nullable = true)\n",
      "\n",
      "+---------+----------+----------+-------+------------+----------+---------------+------------+------------------+----------+---------------+----+\n",
      "|   budget|popularity|   revenue|runtime|vote_average|vote_count|          genre|release_date|production_country|    profit|popularity_rank|risk|\n",
      "+---------+----------+----------+-------+------------+----------+---------------+------------+------------------+----------+---------------+----+\n",
      "|300000000|139.082615| 961000000|    169|         6.9|      4500|         Action|  2007-05-19|      united_state| 661000000|           high|   0|\n",
      "|245000000|107.376788| 880674609|    148|         6.3|      4466|         Action|  2015-10-26|    united_kingdom| 635674609|           high|   0|\n",
      "|250000000| 112.31295|1084939099|    165|         7.6|      9106|         Action|  2012-07-16|      united_state| 834939099|           high|   0|\n",
      "|260000000| 43.926995| 284139100|    132|         6.1|      2124|         Action|  2012-03-07|      united_state|  24139100|           high|   0|\n",
      "|260000000| 48.681969| 591794936|    100|         7.4|      3330|      Animation|  2010-11-24|      united_state| 331794936|           high|   0|\n",
      "|280000000|134.279229|1405403694|    141|         7.3|      6767|         Action|  2015-04-22|      united_state|1125403694|           high|   0|\n",
      "|250000000| 98.885637| 933959197|    153|         7.4|      5293|      Advanture|  2009-07-07|    united_kingdom| 683959197|           high|   0|\n",
      "|250000000|155.790452| 873260194|    151|         5.7|      7004|         Action|  2016-03-23|      united_state| 623260194|           high|   0|\n",
      "|270000000| 57.925623| 391081192|    154|         5.4|      1400|         Action|  2006-06-28|      united_state| 121081192|           high|   0|\n",
      "|200000000|107.928811| 586090727|    106|         6.1|      2965|      Advanture|  2008-10-30|    united_kingdom| 386090727|           high|   0|\n",
      "|200000000|145.847379|1065659812|    151|         7.0|      5246|      Advanture|  2006-06-20|           jamaica| 865659812|           high|   0|\n",
      "|255000000| 49.046956|  89289910|    149|         5.9|      2311|         Action|  2013-07-03|      united_state|-165710090|           high|   2|\n",
      "|225000000| 99.398009| 662845518|    143|         6.5|      6359|         Action|  2013-06-12|    united_kingdom| 437845518|           high|   0|\n",
      "|225000000| 53.978602| 419651413|    150|         6.3|      1630|      Advanture|  2008-05-15|    czech republic| 194651413|           high|   0|\n",
      "|220000000|144.448633|1519557910|    143|         7.4|     11776|Science fiction|  2012-04-25|      united_state|1299557910|           high|   0|\n",
      "|380000000|135.413856|1045713802|    136|         6.4|      4948|      Advanture|  2011-05-14|      united_state| 665713802|           high|   0|\n",
      "|225000000| 52.035179| 624026776|    106|         6.2|      4160|         Action|  2012-05-23|      united_state| 399026776|           high|   0|\n",
      "|250000000|120.965743| 956019788|    144|         7.1|      4760|         Action|  2014-12-10|       new_zealand| 706019788|           high|   0|\n",
      "|215000000| 89.866276| 752215857|    136|         6.5|      6586|         Action|  2012-06-27|      united_state| 537215857|           high|   0|\n",
      "|200000000| 37.668301| 310669540|    140|         6.2|      1398|         Action|  2010-05-12|    united_kingdom| 110669540|           high|   0|\n",
      "+---------+----------+----------+-------+------------+----------+---------------+------------+------------------+----------+---------------+----+\n",
      "only showing top 20 rows\n",
      "\n"
     ]
    }
   ],
   "source": [
    "from pyspark.sql import SparkSession\n",
    "from pyspark.sql.functions import col, when,lit\n",
    "\n",
    "# Initialize Spark session\n",
    "spark = SparkSession.builder.appName(\"EncodeData\").getOrCreate()\n",
    "\n",
    "\n",
    "# Convert `popularity_rank` column (index 10 in Pandas equivalent)\n",
    "df = df_data.withColumn(\"popularity_rank\", when(col(\"popularity_rank\") == 0, lit(\"low\"))\n",
    "                                    .when(col(\"popularity_rank\") == 1.0, lit(\"high\"))\n",
    "                                    .otherwise(col(\"popularity_rank\")))\n",
    "\n",
    "# Optionally show the schema to verify changes\n",
    "df.printSchema()\n",
    "\n",
    "df.show()\n"
   ]
  },
  {
   "cell_type": "code",
   "execution_count": 74,
   "id": "10e8b62c",
   "metadata": {},
   "outputs": [
    {
     "name": "stdout",
     "output_type": "stream",
     "text": [
      "root\n",
      " |-- budget: integer (nullable = true)\n",
      " |-- popularity: double (nullable = true)\n",
      " |-- revenue: integer (nullable = true)\n",
      " |-- runtime: integer (nullable = true)\n",
      " |-- vote_average: double (nullable = true)\n",
      " |-- vote_count: integer (nullable = true)\n",
      " |-- genre: string (nullable = true)\n",
      " |-- release_date: date (nullable = true)\n",
      " |-- production_country: string (nullable = true)\n",
      " |-- profit: integer (nullable = true)\n",
      " |-- popularity_rank: string (nullable = true)\n",
      " |-- risk: string (nullable = true)\n",
      "\n",
      "+----+\n",
      "|risk|\n",
      "+----+\n",
      "| low|\n",
      "| low|\n",
      "| low|\n",
      "| low|\n",
      "| low|\n",
      "| low|\n",
      "| low|\n",
      "| low|\n",
      "| low|\n",
      "| low|\n",
      "| low|\n",
      "|high|\n",
      "| low|\n",
      "| low|\n",
      "| low|\n",
      "| low|\n",
      "| low|\n",
      "| low|\n",
      "| low|\n",
      "| low|\n",
      "+----+\n",
      "only showing top 20 rows\n",
      "\n"
     ]
    }
   ],
   "source": [
    "# Convert `risk` column\n",
    "df = df.withColumn(\"risk\", \n",
    "    when(col(\"risk\") == 0, lit(\"low\"))\n",
    "    .when(col(\"risk\") == 1, lit(\"med\"))\n",
    "    .when(col(\"risk\") == 2, lit(\"high\"))\n",
    "    .otherwise(col(\"risk\"))\n",
    ")\n",
    "\n",
    "# Show DataFrame schema\n",
    "df.printSchema()\n",
    "\n",
    "# Verify the transformation\n",
    "df.select(\"risk\").show()"
   ]
  },
  {
   "cell_type": "markdown",
   "id": "7b432e6e",
   "metadata": {},
   "source": [
    "### correlation(data reduction)"
   ]
  },
  {
   "cell_type": "code",
   "execution_count": 75,
   "id": "e07c7fba",
   "metadata": {},
   "outputs": [
    {
     "data": {
      "image/png": "[encoded data removed]",
      "text/plain": [
       "<Figure size 576x432 with 2 Axes>"
      ]
     },
     "metadata": {
      "needs_background": "light"
     },
     "output_type": "display_data"
    }
   ],
   "source": [
    "from pyspark.sql import SparkSession\n",
    "from pyspark.ml.feature import VectorAssembler\n",
    "from pyspark.ml.stat import Correlation\n",
    "import matplotlib.pyplot as plt\n",
    "import numpy as np\n",
    "\n",
    "# Initialize Spark session\n",
    "spark = SparkSession.builder.appName(\"CorrelationHeatmap\").getOrCreate()\n",
    "\n",
    "\n",
    "# Select only numeric columns\n",
    "numeric_columns = ['budget', 'popularity', 'revenue', 'runtime', 'vote_average', 'vote_count', 'profit', 'risk']\n",
    "\n",
    "# Convert selected columns to features vector\n",
    "vector_assembler = VectorAssembler(inputCols=numeric_columns, outputCol=\"features\")\n",
    "df_features = vector_assembler.transform(df_data).select(\"features\")\n",
    "\n",
    "# Calculate correlation matrix\n",
    "correlation_matrix = Correlation.corr(df_features, \"features\").head()\n",
    "\n",
    "# Extract correlation matrix from the result\n",
    "corr_matrix = correlation_matrix[0].toArray()\n",
    "\n",
    "# Define feature names for x-axis and y-axis\n",
    "feature_names = numeric_columns\n",
    "\n",
    "# Plot heatmap of the correlation matrix\n",
    "plt.figure(figsize=(8, 6))\n",
    "heatmap = plt.imshow(corr_matrix, cmap='coolwarm', interpolation='nearest')\n",
    "\n",
    "# Set x-axis and y-axis ticks and labels\n",
    "plt.xticks(np.arange(len(feature_names)), feature_names, rotation=45)\n",
    "plt.yticks(np.arange(len(feature_names)), feature_names)\n",
    "\n",
    "# Add annotations with correlation values\n",
    "for i in range(len(feature_names)):\n",
    "    for j in range(len(feature_names)):\n",
    "        plt.text(j, i, \"{:.2f}\".format(corr_matrix[i, j]), ha='center', va='center', color='white')\n",
    "\n",
    "plt.colorbar(heatmap, label='Correlation')\n",
    "plt.title('Correlation Heatmap')\n",
    "plt.show()\n"
   ]
  },
  {
   "cell_type": "code",
   "execution_count": 76,
   "id": "fc2fe72b",
   "metadata": {},
   "outputs": [],
   "source": [
    "df = df.drop('profit', 'vote_average')"
   ]
  },
  {
   "cell_type": "code",
   "execution_count": 85,
   "id": "c8b29905",
   "metadata": {},
   "outputs": [
    {
     "name": "stdout",
     "output_type": "stream",
     "text": [
      "+---------+----------+----------+-------+----------+---------------+------------+------------------+---------------+----+\n",
      "|   budget|popularity|   revenue|runtime|vote_count|          genre|release_date|production_country|popularity_rank|risk|\n",
      "+---------+----------+----------+-------+----------+---------------+------------+------------------+---------------+----+\n",
      "|300000000|139.082615| 961000000|    169|      4500|         Action|  2007-05-19|      united_state|           high| low|\n",
      "|245000000|107.376788| 880674609|    148|      4466|         Action|  2015-10-26|            others|           high| low|\n",
      "|250000000| 112.31295|1084939099|    165|      9106|         Action|  2012-07-16|      united_state|           high| low|\n",
      "|260000000| 43.926995| 284139100|    132|      2124|         Action|  2012-03-07|      united_state|           high| low|\n",
      "|260000000| 48.681969| 591794936|    100|      3330|      Animation|  2010-11-24|      united_state|           high| low|\n",
      "|280000000|134.279229|1405403694|    141|      6767|         Action|  2015-04-22|      united_state|           high| low|\n",
      "|250000000| 98.885637| 933959197|    153|      5293|      Advanture|  2009-07-07|            others|           high| low|\n",
      "|250000000|155.790452| 873260194|    151|      7004|         Action|  2016-03-23|      united_state|           high| low|\n",
      "|270000000| 57.925623| 391081192|    154|      1400|         Action|  2006-06-28|      united_state|           high| low|\n",
      "|200000000|107.928811| 586090727|    106|      2965|      Advanture|  2008-10-30|            others|           high| low|\n",
      "|200000000|145.847379|1065659812|    151|      5246|      Advanture|  2006-06-20|            others|           high| low|\n",
      "|255000000| 49.046956|  89289910|    149|      2311|         Action|  2013-07-03|      united_state|           high|high|\n",
      "|225000000| 99.398009| 662845518|    143|      6359|         Action|  2013-06-12|            others|           high| low|\n",
      "|225000000| 53.978602| 419651413|    150|      1630|      Advanture|  2008-05-15|            others|           high| low|\n",
      "|220000000|144.448633|1519557910|    143|     11776|Science fiction|  2012-04-25|      united_state|           high| low|\n",
      "|380000000|135.413856|1045713802|    136|      4948|      Advanture|  2011-05-14|      united_state|           high| low|\n",
      "|225000000| 52.035179| 624026776|    106|      4160|         Action|  2012-05-23|      united_state|           high| low|\n",
      "|250000000|120.965743| 956019788|    144|      4760|         Action|  2014-12-10|            others|           high| low|\n",
      "|215000000| 89.866276| 752215857|    136|      6586|         Action|  2012-06-27|      united_state|           high| low|\n",
      "|200000000| 37.668301| 310669540|    140|      1398|         Action|  2010-05-12|            others|           high| low|\n",
      "+---------+----------+----------+-------+----------+---------------+------------+------------------+---------------+----+\n",
      "only showing top 20 rows\n",
      "\n",
      "root\n",
      " |-- budget: integer (nullable = true)\n",
      " |-- popularity: double (nullable = true)\n",
      " |-- revenue: integer (nullable = true)\n",
      " |-- runtime: integer (nullable = true)\n",
      " |-- vote_count: integer (nullable = true)\n",
      " |-- genre: string (nullable = true)\n",
      " |-- release_date: date (nullable = true)\n",
      " |-- production_country: string (nullable = true)\n",
      " |-- popularity_rank: string (nullable = true)\n",
      " |-- risk: string (nullable = true)\n",
      "\n"
     ]
    }
   ],
   "source": [
    "df = df.withColumn(\"production_country\", \n",
    "                               when(df[\"production_country\"] != \"united_state\", \"others\")\n",
    "                               .otherwise(df[\"production_country\"]))\n",
    "\n",
    "# Show the updated Spark DataFrame\n",
    "df.show()\n",
    "df.printSchema()"
   ]
  },
  {
   "cell_type": "markdown",
   "id": "3124201b",
   "metadata": {},
   "source": [
    "### oversample data"
   ]
  },
  {
   "cell_type": "code",
   "execution_count": 91,
   "id": "aa02681d",
   "metadata": {},
   "outputs": [
    {
     "name": "stdout",
     "output_type": "stream",
     "text": [
      "Number of rows: 2214\n",
      "Number of columns: 10\n"
     ]
    }
   ],
   "source": [
    "from pyspark.sql.functions import col, explode\n",
    "from pyspark.sql import Row\n",
    "\n",
    "# Count the number of instances for each class\n",
    "class_counts = df.groupBy('production_country').count()\n",
    "\n",
    "# Find the maximum count among the classes\n",
    "max_count = class_counts.selectExpr('max(count)').first()[0]\n",
    "\n",
    "# Define a function to oversample each class\n",
    "def oversample_class(label, count):\n",
    "    if count < max_count:\n",
    "        # Filter the DataFrame for the current label and sample the required number of times\n",
    "        sampled_df = df.filter(col('production_country') == label).limit(max_count - count)\n",
    "        # Add the label column to the sampled DataFrame\n",
    "        sampled_df = sampled_df.withColumn('production_country', col('production_country'))\n",
    "        return sampled_df\n",
    "    else:\n",
    "        return None\n",
    "\n",
    "# Apply oversampling function to each class and filter out None values\n",
    "oversampled_dfs = [oversample_class(row['production_country'], row['count']) for row in class_counts.collect() if oversample_class(row['production_country'], row['count']) is not None]\n",
    "\n",
    "from functools import reduce\n",
    "\n",
    "# Union all oversampled DataFrames\n",
    "oversampled_df = reduce(lambda df1, df2: df1.union(df2), oversampled_dfs)\n",
    "\n",
    "# Union the oversampled DataFrame with the original DataFrame\n",
    "balanced_df = df.union(oversampled_df)\n",
    "\n",
    "# Count the number of rows\n",
    "num_rows = balanced_df.count()\n",
    "\n",
    "# Count the number of columns\n",
    "num_columns = len(balanced_df.columns)\n",
    "\n",
    "print(\"Number of rows:\", num_rows)\n",
    "print(\"Number of columns:\", num_columns)"
   ]
  },
  {
   "cell_type": "code",
   "execution_count": 92,
   "id": "f66a723e",
   "metadata": {},
   "outputs": [],
   "source": [
    "balanced_df.write.csv('data/transformed.csv')"
   ]
  }
 ],
 "metadata": {
  "kernelspec": {
   "display_name": "Python 3 (ipykernel)",
   "language": "python",
   "name": "python3"
  },
  "language_info": {
   "codemirror_mode": {
    "name": "ipython",
    "version": 3
   },
   "file_extension": ".py",
   "mimetype": "text/x-python",
   "name": "python",
   "nbconvert_exporter": "python",
   "pygments_lexer": "ipython3",
   "version": "3.10.4"
  }
 },
 "nbformat": 4,
 "nbformat_minor": 5
}
