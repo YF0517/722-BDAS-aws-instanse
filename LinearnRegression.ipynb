{
 "cells": [
  {
   "cell_type": "code",
   "execution_count": 90,
   "id": "ddf2c5a8",
   "metadata": {},
   "outputs": [
    {
     "name": "stderr",
     "output_type": "stream",
     "text": [
      "24/05/21 13:57:03 WARN Utils: Service 'SparkUI' could not bind on port 4040. Attempting port 4041.\n",
      "24/05/21 13:57:03 WARN Utils: Service 'SparkUI' could not bind on port 4041. Attempting port 4042.\n"
     ]
    }
   ],
   "source": [
    "# Must be included at the beginning of each new notebook. Remember to change the app name.\n",
    "import findspark\n",
    "findspark.init('/home/ubuntu/spark-3.2.1-bin-hadoop2.7')\n",
    "import pyspark\n",
    "from pyspark.sql import SparkSession\n",
    "spark = SparkSession.builder.appName('basics').getOrCreate()"
   ]
  },
  {
   "cell_type": "code",
   "execution_count": 91,
   "id": "a70e57c0",
   "metadata": {},
   "outputs": [],
   "source": [
    "df = spark.read.csv('data/transformed.csv',inferSchema=True)"
   ]
  },
  {
   "cell_type": "code",
   "execution_count": 80,
   "id": "bb47307f",
   "metadata": {},
   "outputs": [],
   "source": [
    "df = spark.read.csv('data/merged.csv',inferSchema=True)"
   ]
  },
  {
   "cell_type": "code",
   "execution_count": 81,
   "id": "b77f98d1",
   "metadata": {},
   "outputs": [
    {
     "name": "stdout",
     "output_type": "stream",
     "text": [
      "+---------+----------+----------+---+---+-------+---------------+----------+--------------+----------+\n",
      "|      _c0|       _c1|       _c2|_c3|_c4|    _c5|            _c6|       _c7|           _c8|       _c9|\n",
      "+---------+----------+----------+---+---+-------+---------------+----------+--------------+----------+\n",
      "|300000000|139.082615| 961000000|169|6.9| 4500.0|         Action|2007-05-19|  united_state| 661000000|\n",
      "|245000000|107.376788| 880674609|148|6.3| 4466.0|         Action|2015-10-26|united_kingdom| 635674609|\n",
      "|250000000| 112.31295|1084939099|165|7.6| 9106.0|         Action|2012-07-16|  united_state| 834939099|\n",
      "|260000000| 43.926995| 284139100|132|6.1| 2124.0|         Action|2012-03-07|  united_state|  24139100|\n",
      "|260000000| 48.681969| 591794936|100|7.4| 3330.0|      Animation|2010-11-24|  united_state| 331794936|\n",
      "|280000000|134.279229|1405403694|141|7.3| 6767.0|         Action|2015-04-22|  united_state|1125403694|\n",
      "|250000000| 98.885637| 933959197|153|7.4| 5293.0|      Advanture|2009-07-07|united_kingdom| 683959197|\n",
      "|250000000|155.790452| 873260194|151|5.7| 7004.0|         Action|2016-03-23|  united_state| 623260194|\n",
      "|270000000| 57.925623| 391081192|154|5.4| 1400.0|         Action|2006-06-28|  united_state| 121081192|\n",
      "|200000000|107.928811| 586090727|106|6.1| 2965.0|      Advanture|2008-10-30|united_kingdom| 386090727|\n",
      "|200000000|145.847379|1065659812|151|7.0| 5246.0|      Advanture|2006-06-20|       jamaica| 865659812|\n",
      "|255000000| 49.046956|  89289910|149|5.9| 2311.0|         Action|2013-07-03|  united_state|-165710090|\n",
      "|225000000| 99.398009| 662845518|143|6.5| 6359.0|         Action|2013-06-12|united_kingdom| 437845518|\n",
      "|225000000| 53.978602| 419651413|150|6.3| 1630.0|      Advanture|2008-05-15|czech republic| 194651413|\n",
      "|220000000|144.448633|1519557910|143|7.4|11776.0|Science fiction|2012-04-25|  united_state|1299557910|\n",
      "|380000000|135.413856|1045713802|136|6.4| 4948.0|      Advanture|2011-05-14|  united_state| 665713802|\n",
      "|225000000| 52.035179| 624026776|106|6.2| 4160.0|         Action|2012-05-23|  united_state| 399026776|\n",
      "|250000000|120.965743| 956019788|144|7.1| 4760.0|         Action|2014-12-10|   new_zealand| 706019788|\n",
      "|215000000| 89.866276| 752215857|136|6.5| 6586.0|         Action|2012-06-27|  united_state| 537215857|\n",
      "|200000000| 37.668301| 310669540|140|6.2| 1398.0|         Action|2010-05-12|united_kingdom| 110669540|\n",
      "+---------+----------+----------+---+---+-------+---------------+----------+--------------+----------+\n",
      "only showing top 20 rows\n",
      "\n"
     ]
    }
   ],
   "source": [
    "df.show()"
   ]
  },
  {
   "cell_type": "code",
   "execution_count": 92,
   "id": "779e733d",
   "metadata": {},
   "outputs": [
    {
     "name": "stdout",
     "output_type": "stream",
     "text": [
      "root\n",
      " |-- budget: integer (nullable = true)\n",
      " |-- popularity: double (nullable = true)\n",
      " |-- revenue: integer (nullable = true)\n",
      " |-- runtime: integer (nullable = true)\n",
      " |-- vote_count: integer (nullable = true)\n",
      " |-- genre: string (nullable = true)\n",
      " |-- release_date: string (nullable = true)\n",
      " |-- production_country: string (nullable = true)\n",
      " |-- popularity_rank: string (nullable = true)\n",
      " |-- risk: string (nullable = true)\n",
      "\n",
      "+---------+----------+----------+-------+----------+---------------+------------+------------------+---------------+----+\n",
      "|   budget|popularity|   revenue|runtime|vote_count|          genre|release_date|production_country|popularity_rank|risk|\n",
      "+---------+----------+----------+-------+----------+---------------+------------+------------------+---------------+----+\n",
      "|300000000|139.082615| 961000000|    169|      4500|         Action|  2007-05-19|      united_state|           high| low|\n",
      "|245000000|107.376788| 880674609|    148|      4466|         Action|  2015-10-26|            others|           high| low|\n",
      "|250000000| 112.31295|1084939099|    165|      9106|         Action|  2012-07-16|      united_state|           high| low|\n",
      "|260000000| 43.926995| 284139100|    132|      2124|         Action|  2012-03-07|      united_state|           high| low|\n",
      "|260000000| 48.681969| 591794936|    100|      3330|      Animation|  2010-11-24|      united_state|           high| low|\n",
      "|280000000|134.279229|1405403694|    141|      6767|         Action|  2015-04-22|      united_state|           high| low|\n",
      "|250000000| 98.885637| 933959197|    153|      5293|      Advanture|  2009-07-07|            others|           high| low|\n",
      "|250000000|155.790452| 873260194|    151|      7004|         Action|  2016-03-23|      united_state|           high| low|\n",
      "|270000000| 57.925623| 391081192|    154|      1400|         Action|  2006-06-28|      united_state|           high| low|\n",
      "|200000000|107.928811| 586090727|    106|      2965|      Advanture|  2008-10-30|            others|           high| low|\n",
      "|200000000|145.847379|1065659812|    151|      5246|      Advanture|  2006-06-20|            others|           high| low|\n",
      "|255000000| 49.046956|  89289910|    149|      2311|         Action|  2013-07-03|      united_state|           high|high|\n",
      "|225000000| 99.398009| 662845518|    143|      6359|         Action|  2013-06-12|            others|           high| low|\n",
      "|225000000| 53.978602| 419651413|    150|      1630|      Advanture|  2008-05-15|            others|           high| low|\n",
      "|220000000|144.448633|1519557910|    143|     11776|Science fiction|  2012-04-25|      united_state|           high| low|\n",
      "|380000000|135.413856|1045713802|    136|      4948|      Advanture|  2011-05-14|      united_state|           high| low|\n",
      "|225000000| 52.035179| 624026776|    106|      4160|         Action|  2012-05-23|      united_state|           high| low|\n",
      "|250000000|120.965743| 956019788|    144|      4760|         Action|  2014-12-10|            others|           high| low|\n",
      "|215000000| 89.866276| 752215857|    136|      6586|         Action|  2012-06-27|      united_state|           high| low|\n",
      "|200000000| 37.668301| 310669540|    140|      1398|         Action|  2010-05-12|            others|           high| low|\n",
      "+---------+----------+----------+-------+----------+---------------+------------+------------------+---------------+----+\n",
      "only showing top 20 rows\n",
      "\n"
     ]
    }
   ],
   "source": [
    "# Optionally, rename columns for better clarity\n",
    "df = df.withColumnRenamed(\"_c0\", \"budget\") \\\n",
    "       .withColumnRenamed(\"_c1\", \"popularity\") \\\n",
    "       .withColumnRenamed(\"_c2\", \"revenue\") \\\n",
    "       .withColumnRenamed(\"_c3\", \"runtime\") \\\n",
    "       .withColumnRenamed(\"_c4\", \"vote_count\") \\\n",
    "       .withColumnRenamed(\"_c5\", \"genre\") \\\n",
    "       .withColumnRenamed(\"_c6\", \"release_date\") \\\n",
    "       .withColumnRenamed(\"_c7\", \"production_country\")\\\n",
    "       .withColumnRenamed(\"_c8\", \"popularity_rank\")\\\n",
    "       .withColumnRenamed(\"_c9\", \"risk\")\n",
    "# Let's get an idea of what the data looks like. \n",
    "df.printSchema()\n",
    "df.show()"
   ]
  },
  {
   "cell_type": "code",
   "execution_count": 93,
   "id": "380f10dc",
   "metadata": {},
   "outputs": [],
   "source": [
    "from pyspark.sql import SparkSession\n",
    "from pyspark.ml.feature import StringIndexer, VectorAssembler\n",
    "from pyspark.ml.evaluation import MulticlassClassificationEvaluator\n",
    "\n",
    "\n",
    "# Convert categorical columns into numerical representations\n",
    "indexer_risk = StringIndexer(inputCol=\"risk\", outputCol=\"risk_index\")\n",
    "\n",
    "df = indexer_risk.fit(df).transform(df)"
   ]
  },
  {
   "cell_type": "code",
   "execution_count": 94,
   "id": "e4b2fb4f",
   "metadata": {},
   "outputs": [
    {
     "name": "stdout",
     "output_type": "stream",
     "text": [
      "+---------+----------+----------+-------+----------+---------------+------------+------------------+---------------+----+----------+\n",
      "|   budget|popularity|   revenue|runtime|vote_count|          genre|release_date|production_country|popularity_rank|risk|risk_index|\n",
      "+---------+----------+----------+-------+----------+---------------+------------+------------------+---------------+----+----------+\n",
      "|300000000|139.082615| 961000000|    169|      4500|         Action|  2007-05-19|      united_state|           high| low|       0.0|\n",
      "|245000000|107.376788| 880674609|    148|      4466|         Action|  2015-10-26|            others|           high| low|       0.0|\n",
      "|250000000| 112.31295|1084939099|    165|      9106|         Action|  2012-07-16|      united_state|           high| low|       0.0|\n",
      "|260000000| 43.926995| 284139100|    132|      2124|         Action|  2012-03-07|      united_state|           high| low|       0.0|\n",
      "|260000000| 48.681969| 591794936|    100|      3330|      Animation|  2010-11-24|      united_state|           high| low|       0.0|\n",
      "|280000000|134.279229|1405403694|    141|      6767|         Action|  2015-04-22|      united_state|           high| low|       0.0|\n",
      "|250000000| 98.885637| 933959197|    153|      5293|      Advanture|  2009-07-07|            others|           high| low|       0.0|\n",
      "|250000000|155.790452| 873260194|    151|      7004|         Action|  2016-03-23|      united_state|           high| low|       0.0|\n",
      "|270000000| 57.925623| 391081192|    154|      1400|         Action|  2006-06-28|      united_state|           high| low|       0.0|\n",
      "|200000000|107.928811| 586090727|    106|      2965|      Advanture|  2008-10-30|            others|           high| low|       0.0|\n",
      "|200000000|145.847379|1065659812|    151|      5246|      Advanture|  2006-06-20|            others|           high| low|       0.0|\n",
      "|255000000| 49.046956|  89289910|    149|      2311|         Action|  2013-07-03|      united_state|           high|high|       1.0|\n",
      "|225000000| 99.398009| 662845518|    143|      6359|         Action|  2013-06-12|            others|           high| low|       0.0|\n",
      "|225000000| 53.978602| 419651413|    150|      1630|      Advanture|  2008-05-15|            others|           high| low|       0.0|\n",
      "|220000000|144.448633|1519557910|    143|     11776|Science fiction|  2012-04-25|      united_state|           high| low|       0.0|\n",
      "|380000000|135.413856|1045713802|    136|      4948|      Advanture|  2011-05-14|      united_state|           high| low|       0.0|\n",
      "|225000000| 52.035179| 624026776|    106|      4160|         Action|  2012-05-23|      united_state|           high| low|       0.0|\n",
      "|250000000|120.965743| 956019788|    144|      4760|         Action|  2014-12-10|            others|           high| low|       0.0|\n",
      "|215000000| 89.866276| 752215857|    136|      6586|         Action|  2012-06-27|      united_state|           high| low|       0.0|\n",
      "|200000000| 37.668301| 310669540|    140|      1398|         Action|  2010-05-12|            others|           high| low|       0.0|\n",
      "+---------+----------+----------+-------+----------+---------------+------------+------------------+---------------+----+----------+\n",
      "only showing top 20 rows\n",
      "\n"
     ]
    }
   ],
   "source": [
    "df.show()"
   ]
  },
  {
   "cell_type": "code",
   "execution_count": 89,
   "id": "47af7f80",
   "metadata": {},
   "outputs": [
    {
     "name": "stderr",
     "output_type": "stream",
     "text": [
      "24/05/21 13:56:29 WARN Instrumentation: [27316e73] regParam is zero, which might cause numerical instability and overfitting.\n",
      "                                                                                \r"
     ]
    },
    {
     "name": "stdout",
     "output_type": "stream",
     "text": [
      "Root Mean Squared Error (RMSE) = 0.015154294718735587\n",
      "R-squared (R2) = 0.6482326824531474\n",
      "Coefficients: [0.0036226109174168145,0.18482663842102406]\n",
      "Intercept: 0.009586156438039126\n"
     ]
    }
   ],
   "source": [
    "from pyspark.sql import SparkSession\n",
    "from pyspark.ml.feature import VectorAssembler\n",
    "from pyspark.ml.regression import LinearRegression\n",
    "from pyspark.ml.evaluation import RegressionEvaluator\n",
    "from pyspark.sql.functions import col, udf, min, max\n",
    "from pyspark.sql.types import DoubleType\n",
    "\n",
    "# Initialize Spark Session\n",
    "spark = SparkSession.builder.appName(\"LinearRegressionExample\").getOrCreate()\n",
    "\n",
    "\n",
    "# Calculate min and max values for revenue and budget\n",
    "revenue_min, revenue_max = df.select(min(\"revenue\"), max(\"revenue\")).first()\n",
    "budget_min, budget_max = df.select(min(\"budget\"), max(\"budget\")).first()\n",
    "\n",
    "# Define UDF for Min-Max scaling\n",
    "def min_max_scaling(value, min_value, max_value):\n",
    "    return (value - min_value) / (max_value - min_value)\n",
    "\n",
    "# Define UDF for inverse Min-Max scaling\n",
    "def inverse_min_max_scaling(scaled_value, min_value, max_value):\n",
    "    return (scaled_value * (max_value - min_value)) + min_value\n",
    "\n",
    "min_max_scaling_udf = udf(lambda x: min_max_scaling(x, revenue_min, revenue_max), DoubleType())\n",
    "inverse_min_max_scaling_udf = udf(lambda x: inverse_min_max_scaling(x, budget_min, budget_max), DoubleType())\n",
    "\n",
    "# Apply Min-Max scaling to revenue and budget columns\n",
    "df = df.withColumn(\"revenue_scaled\", min_max_scaling_udf(col(\"revenue\")))\n",
    "df = df.withColumn(\"budget_scaled\", min_max_scaling_udf(col(\"budget\")))\n",
    "\n",
    "# List of feature column names\n",
    "all_feature_columns = ['risk_index', 'revenue_scaled']\n",
    "\n",
    "# Assemble features into a single vector\n",
    "assembler = VectorAssembler(inputCols=all_feature_columns, outputCol=\"features\")\n",
    "data = assembler.transform(df)\n",
    "\n",
    "# Split the data into training and test sets\n",
    "train_data, test_data = data.randomSplit([0.7, 0.3], seed=1667)\n",
    "\n",
    "# Create and train the Linear Regression model\n",
    "lr = LinearRegression(featuresCol=\"features\", labelCol=\"budget_scaled\")\n",
    "model = lr.fit(train_data)\n",
    "\n",
    "# Make predictions on the test data\n",
    "predictions = model.transform(test_data)\n",
    "\n",
    "# Evaluate the model\n",
    "evaluator_rmse = RegressionEvaluator(labelCol=\"budget_scaled\", predictionCol=\"prediction\", metricName=\"rmse\")\n",
    "rmse = evaluator_rmse.evaluate(predictions)\n",
    "\n",
    "# Calculate R-squared\n",
    "evaluator_r2 = RegressionEvaluator(labelCol=\"budget_scaled\", predictionCol=\"prediction\", metricName=\"r2\")\n",
    "r2 = evaluator_r2.evaluate(predictions)\n",
    "\n",
    "print(f\"Root Mean Squared Error (RMSE) = {rmse}\")\n",
    "print(f\"R-squared (R2) = {r2}\")\n",
    "\n",
    "# Print the coefficients and intercept of the model\n",
    "print(f\"Coefficients: {model.coefficients}\")\n",
    "print(f\"Intercept: {model.intercept}\")\n",
    "\n",
    "# Stop the Spark session\n",
    "spark.stop()\n"
   ]
  },
  {
   "cell_type": "code",
   "execution_count": 59,
   "id": "fcef352d",
   "metadata": {},
   "outputs": [
    {
     "name": "stdout",
     "output_type": "stream",
     "text": [
      "+----------+-------------------+---------+-------------------+\n",
      "|   revenue|     revenue_scaled|   budget|      budget_scaled|\n",
      "+----------+-------------------+---------+-------------------+\n",
      "| 961000000| 0.4682151277436003|300000000|0.14614718108643482|\n",
      "| 880674609|   0.42907710392544|245000000|0.11934878915580832|\n",
      "|1084939099| 0.5286036468441587|250000000|0.12178500660404709|\n",
      "| 284139100|0.13841906082148075|260000000|0.12665744150052463|\n",
      "| 591794936| 0.2883223639646179|260000000|0.12665744150052463|\n",
      "|1405403694|  0.684747934420513|280000000| 0.1364023112934797|\n",
      "| 933959197|0.45503967252700284|250000000|0.12178500660404709|\n",
      "| 873260194|0.42546447848714336|250000000|0.12178500660404709|\n",
      "| 391081192|0.19052589891779192|270000000|0.13152987639700217|\n",
      "| 586090727|0.28554302526577774|200000000|0.09742283212165939|\n",
      "|1065659812| 0.5192099397683582|200000000|0.09742283212165939|\n",
      "|  89289910|0.04348006153084246|255000000|0.12422122405228588|\n",
      "| 662845518| 0.3229412974798018|225000000|0.10960391936285324|\n",
      "| 419651413|0.20444655309783946|225000000|0.10960391936285324|\n",
      "|1519557910| 0.7403688329823565|220000000|0.10716770191461447|\n",
      "|1045713802| 0.5094913762514092|380000000|0.18512666025825514|\n",
      "| 624026776|  0.304027118163986|225000000|0.10960391936285324|\n",
      "| 956019788|0.46578855186953466|250000000|0.12178500660404709|\n",
      "| 752215857| 0.3664864133251646|215000000| 0.1047314844663757|\n",
      "| 310669540| 0.1513458449889711|200000000|0.09742283212165939|\n",
      "+----------+-------------------+---------+-------------------+\n",
      "only showing top 20 rows\n",
      "\n"
     ]
    }
   ],
   "source": [
    "from pyspark.sql import SparkSession\n",
    "from pyspark.ml.evaluation import RegressionEvaluator\n",
    "from pyspark.sql.functions import col, udf, min, max\n",
    "from pyspark.sql.types import DoubleType\n",
    "\n",
    "# Define UDF for Min-Max scaling\n",
    "def min_max_scaling(value, min_value, max_value):\n",
    "    return (value - min_value) / (max_value - min_value)\n",
    "\n",
    "# Define UDF for inverse Min-Max scaling\n",
    "def inverse_min_max_scaling(scaled_value, min_value, max_value):\n",
    "    return (scaled_value * (max_value - min_value)) + min_value\n",
    "\n",
    "\n",
    "\n",
    "# Calculate min and max values for revenue and budget\n",
    "revenue_min, revenue_max = df.select(min(\"revenue\"), max(\"revenue\")).first()\n",
    "budget_min, budget_max = df.select(min(\"budget\"), max(\"budget\")).first()\n",
    "\n",
    "min_max_scaling_udf = udf(lambda x: min_max_scaling(x, revenue_min, revenue_max), DoubleType())\n",
    "inverse_min_max_scaling_udf = udf(lambda x: inverse_min_max_scaling(x, budget_min, budget_max), DoubleType())\n",
    "\n",
    "# Apply Min-Max scaling to revenue and budget columns\n",
    "df = df.withColumn(\"revenue_scaled\", min_max_scaling_udf(col(\"revenue\")))\n",
    "df = df.withColumn(\"budget_scaled\", min_max_scaling_udf(col(\"budget\")))\n",
    "\n",
    "df.select(\"revenue\",\"revenue_scaled\",\"budget\",\"budget_scaled\").show()"
   ]
  },
  {
   "cell_type": "code",
   "execution_count": 95,
   "id": "9adeb80b",
   "metadata": {},
   "outputs": [
    {
     "name": "stderr",
     "output_type": "stream",
     "text": [
      "24/05/21 13:57:31 WARN Instrumentation: [a5833adb] regParam is zero, which might cause numerical instability and overfitting.\n"
     ]
    },
    {
     "name": "stdout",
     "output_type": "stream",
     "text": [
      "Root Mean Squared Error (RMSE) = 33350496.087400656\n",
      "R-squared (R2) = 0.5795926808371791\n",
      "Coefficients: [10243916.270677501,0.19698341904775898]\n",
      "Intercept: 18419972.0634231\n",
      "Formula: budget = 18419972.0634231 + (10243916.270677501 * risk_index) + (0.19698341904775898 * revenue)\n",
      "+-----------------+-------+--------------------+\n",
      "|         features| budget|          prediction|\n",
      "+-----------------+-------+--------------------+\n",
      "|    [1.0,95000.0]| 100000|2.8682601758910142E7|\n",
      "|  [0.0,1332231.0]| 134005|1.8682399480764516E7|\n",
      "|[0.0,2.0710513E7]| 160000| 2.249959972439616E7|\n",
      "|  [0.0,2295733.0]| 200000| 1.887219339898387E7|\n",
      "|   [1.0,111300.0]| 225000|2.8685812588640615E7|\n",
      "|  [0.0,2260712.0]| 230000|1.8865294842665397E7|\n",
      "|   [0.0,973525.0]| 450000| 1.861174034645157E7|\n",
      "|    [1.0,98017.0]| 500000| 2.868319605788541E7|\n",
      "|  [0.0,1984662.0]| 800000|1.8810917569837265E7|\n",
      "|  [0.0,4270000.0]| 967686|1.9261091262757033E7|\n",
      "|  [0.0,4270000.0]| 967686|1.9261091262757033E7|\n",
      "| [0.0,6.288209E7]|1000000|3.0806701148491994E7|\n",
      "|  [0.0,4105187.0]|1100000|1.9228625834513515E7|\n",
      "|  [0.0,2861020.0]|1200000| 1.898354556498712E7|\n",
      "|   [1.0,639000.0]|1300000| 2.878976073887212E7|\n",
      "|   [1.0,712294.0]|1500000|2.8804198441587806E7|\n",
      "|[0.0,1.1098131E7]|1500000|2.0606119852843024E7|\n",
      "|  [1.0,1165882.0]|1500000| 2.889354775666684E7|\n",
      "|  [0.0,3566225.0]|1500000|1.9122459257016696E7|\n",
      "|   [0.0,3.0448E7]|1500000|2.4417723206589267E7|\n",
      "+-----------------+-------+--------------------+\n",
      "only showing top 20 rows\n",
      "\n",
      "Model Summary:\n",
      "<pyspark.ml.regression.LinearRegressionTrainingSummary object at 0x7f05e4a94910>\n",
      "Model Summary:\n",
      "Intercept: 18419972.0634231\n",
      "Coefficients: [10243916.270677501,0.19698341904775898]\n",
      "RMSE: 33350496.087400656\n",
      "R-squared: 0.5795926808371791\n",
      "Number of Instances: 1571\n",
      "Number of Features: 8\n",
      "Degrees of Freedom: 1568\n",
      "P-value: [4.944896723202419e-07, 0.0, 0.0]\n",
      "t-values: [5.049589222170393, 49.20332713024972, 15.456056194067434]\n"
     ]
    }
   ],
   "source": [
    "from pyspark.sql import SparkSession\n",
    "from pyspark.ml.feature import VectorAssembler\n",
    "from pyspark.ml.regression import LinearRegression\n",
    "from pyspark.ml.evaluation import RegressionEvaluator\n",
    "\n",
    "# Initialize Spark Session\n",
    "spark = SparkSession.builder.appName(\"LinearRegressionExample\").getOrCreate()\n",
    "\n",
    "# List of feature column names\n",
    "all_feature_columns = ['risk_index', 'revenue']\n",
    "\n",
    "# Assemble features into a single vector\n",
    "assembler = VectorAssembler(inputCols=all_feature_columns, outputCol=\"features\")\n",
    "data = assembler.transform(df)\n",
    "\n",
    "# Split the data into training and test sets\n",
    "train_data, test_data = data.randomSplit([0.7, 0.3], seed=1889)\n",
    "\n",
    "# Create and train the Linear Regression model\n",
    "lr = LinearRegression(featuresCol=\"features\", labelCol=\"budget\")\n",
    "model = lr.fit(train_data)\n",
    "\n",
    "# Make predictions on the test data\n",
    "predictions = model.transform(test_data)\n",
    "\n",
    "# Evaluate the model\n",
    "evaluator_rmse = RegressionEvaluator(labelCol=\"budget\", predictionCol=\"prediction\", metricName=\"rmse\")\n",
    "rmse = evaluator_rmse.evaluate(predictions)\n",
    "\n",
    "# Calculate R-squared\n",
    "evaluator_r2 = RegressionEvaluator(labelCol=\"budget\", predictionCol=\"prediction\", metricName=\"r2\")\n",
    "r2 = evaluator_r2.evaluate(predictions)\n",
    "\n",
    "print(f\"Root Mean Squared Error (RMSE) = {rmse}\")\n",
    "print(f\"R-squared (R2) = {r2}\")\n",
    "\n",
    "# Print the coefficients and intercept of the model\n",
    "print(f\"Coefficients: {model.coefficients}\")\n",
    "print(f\"Intercept: {model.intercept}\")\n",
    "\n",
    "# Print the formula of the linear regression model\n",
    "feature_coefficients = list(zip(all_feature_columns, model.coefficients))\n",
    "formula = f\"budget = {model.intercept}\"\n",
    "for feature, coef in feature_coefficients:\n",
    "    formula += f\" + ({coef} * {feature})\"\n",
    "print(f\"Formula: {formula}\")\n",
    "\n",
    "# Show the predictions\n",
    "predictions.select(\"features\", \"budget\", \"prediction\").show()\n",
    "\n",
    "# Model summary\n",
    "print(\"Model Summary:\")\n",
    "print(model.summary)\n",
    "\n",
    "# Model Summary\n",
    "print(\"Model Summary:\")\n",
    "print(f\"Intercept: {model.intercept}\")\n",
    "print(f\"Coefficients: {model.coefficients}\")\n",
    "print(f\"RMSE: {rmse}\")\n",
    "print(f\"R-squared: {r2}\")\n",
    "print(f\"Number of Instances: {model.summary.numInstances}\")\n",
    "print(f\"Number of Features: {len(model.summary.featuresCol)}\")\n",
    "print(f\"Degrees of Freedom: {model.summary.degreesOfFreedom}\")\n",
    "print(f\"P-value: {model.summary.pValues}\")\n",
    "print(f\"t-values: {model.summary.tValues}\")\n",
    "\n",
    "\n",
    "# Stop the Spark session\n",
    "spark.stop()\n"
   ]
  },
  {
   "cell_type": "code",
   "execution_count": 32,
   "id": "d962bdb0",
   "metadata": {},
   "outputs": [
    {
     "name": "stderr",
     "output_type": "stream",
     "text": [
      "                                                                                \r"
     ]
    },
    {
     "data": {
      "image/png": "[encoded data removed]",
      "text/plain": [
       "<Figure size 720x432 with 1 Axes>"
      ]
     },
     "metadata": {
      "needs_background": "light"
     },
     "output_type": "display_data"
    }
   ],
   "source": [
    "import matplotlib.pyplot as plt\n",
    "\n",
    "# Extracting actual and predicted values\n",
    "actual_values = predictions.select(\"budget\").rdd.flatMap(lambda x: x).collect()\n",
    "predicted_values = predictions.select(\"prediction\").rdd.flatMap(lambda x: x).collect()\n",
    "\n",
    "# Plotting the actual vs predicted values as dots\n",
    "plt.figure(figsize=(10, 6))\n",
    "plt.scatter(actual_values, predicted_values, alpha=0.5)\n",
    "plt.plot([min(actual_values), max(actual_values)], [min(actual_values), max(actual_values)], 'r--')\n",
    "plt.xlabel('Actual Budget')\n",
    "plt.ylabel('Predicted Budget')\n",
    "plt.title('Actual vs Predicted Budget')\n",
    "plt.grid(True)\n",
    "plt.show()\n"
   ]
  },
  {
   "cell_type": "code",
   "execution_count": 33,
   "id": "e54ad05b",
   "metadata": {},
   "outputs": [
    {
     "data": {
      "image/png": "[encoded data removed]",
      "text/plain": [
       "<Figure size 720x432 with 1 Axes>"
      ]
     },
     "metadata": {
      "needs_background": "light"
     },
     "output_type": "display_data"
    }
   ],
   "source": [
    "import matplotlib.pyplot as plt\n",
    "import numpy as np\n",
    "\n",
    "# Extracting actual and predicted values\n",
    "actual_values = predictions.select(\"budget\").rdd.flatMap(lambda x: x).collect()\n",
    "predicted_values = predictions.select(\"prediction\").rdd.flatMap(lambda x: x).collect()\n",
    "\n",
    "# Plotting the actual vs predicted values as dots\n",
    "plt.figure(figsize=(10, 6))\n",
    "plt.scatter(actual_values, predicted_values, alpha=0.5, label='Test Data')\n",
    "plt.plot([min(actual_values), max(actual_values)], [min(actual_values), max(actual_values)], 'r--', label='Ideal Line')\n",
    "\n",
    "# Plotting the linear regression line\n",
    "regression_line = np.polyfit(actual_values, predicted_values, 1)\n",
    "plt.plot(actual_values, np.polyval(regression_line, actual_values), color='green', label='Regression Line')\n",
    "\n",
    "plt.xlabel('Actual Budget')\n",
    "plt.ylabel('Predicted Budget')\n",
    "plt.title('Actual vs Predicted Budget')\n",
    "plt.legend()\n",
    "plt.grid(True)\n",
    "plt.show()\n"
   ]
  },
  {
   "cell_type": "code",
   "execution_count": 16,
   "id": "3b6ee547",
   "metadata": {},
   "outputs": [
    {
     "name": "stderr",
     "output_type": "stream",
     "text": [
      "24/05/21 07:57:53 WARN Instrumentation: [165f36be] regParam is zero, which might cause numerical instability and overfitting.\n"
     ]
    },
    {
     "name": "stdout",
     "output_type": "stream",
     "text": [
      "R-squared (R2) = 0.6592831157869041\n"
     ]
    }
   ],
   "source": [
    "from pyspark.sql import SparkSession\n",
    "from pyspark.ml.feature import VectorAssembler\n",
    "from pyspark.ml.regression import LinearRegression\n",
    "from pyspark.ml.evaluation import RegressionEvaluator\n",
    "\n",
    "# Initialize Spark Session\n",
    "spark = SparkSession.builder.appName(\"LinearRegressionExample\").getOrCreate()\n",
    "\n",
    "# List of feature column names\n",
    "all_feature_columns = ['risk_index', 'revenue']\n",
    "\n",
    "# Assemble features into a single vector\n",
    "assembler = VectorAssembler(inputCols=all_feature_columns, outputCol=\"features\")\n",
    "data = assembler.transform(df)\n",
    "\n",
    "# Split the data into training and test sets\n",
    "train_data, test_data = data.randomSplit([0.7, 0.3], seed=1234)\n",
    "\n",
    "# Create and train the Linear Regression model\n",
    "lr = LinearRegression(featuresCol=\"features\", labelCol=\"budget\")\n",
    "model = lr.fit(train_data)\n",
    "\n",
    "# Make predictions on the test data\n",
    "predictions = model.transform(test_data)\n",
    "\n",
    "# Calculate R-squared\n",
    "evaluator_r2 = RegressionEvaluator(labelCol=\"budget\", predictionCol=\"prediction\", metricName=\"r2\")\n",
    "r2 = evaluator_r2.evaluate(predictions)\n",
    "\n",
    "print(f\"R-squared (R2) = {r2}\")\n",
    "\n",
    "# Stop the Spark session\n",
    "spark.stop()\n"
   ]
  }
 ],
 "metadata": {
  "kernelspec": {
   "display_name": "Python 3 (ipykernel)",
   "language": "python",
   "name": "python3"
  },
  "language_info": {
   "codemirror_mode": {
    "name": "ipython",
    "version": 3
   },
   "file_extension": ".py",
   "mimetype": "text/x-python",
   "name": "python",
   "nbconvert_exporter": "python",
   "pygments_lexer": "ipython3",
   "version": "3.10.4"
  }
 },
 "nbformat": 4,
 "nbformat_minor": 5
}
