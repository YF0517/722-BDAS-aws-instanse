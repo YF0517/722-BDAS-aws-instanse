{
 "cells": [
  {
   "cell_type": "code",
   "execution_count": 71,
   "id": "18067f45",
   "metadata": {},
   "outputs": [],
   "source": [
    "# Must be included at the beginning of each new notebook. Remember to change the app name.\n",
    "import findspark\n",
    "findspark.init('/home/ubuntu/spark-3.2.1-bin-hadoop2.7')\n",
    "import pyspark\n",
    "from pyspark.sql import SparkSession\n",
    "spark = SparkSession.builder.appName('basics').getOrCreate()"
   ]
  },
  {
   "cell_type": "code",
   "execution_count": 72,
   "id": "5a460cc7",
   "metadata": {},
   "outputs": [],
   "source": [
    "df = spark.read.csv('data/transformed.csv',inferSchema=True)"
   ]
  },
  {
   "cell_type": "code",
   "execution_count": 73,
   "id": "c1de58ed",
   "metadata": {},
   "outputs": [
    {
     "name": "stdout",
     "output_type": "stream",
     "text": [
      "+---------+----------+----------+---+-----+---------------+----------+------------+----+----+\n",
      "|      _c0|       _c1|       _c2|_c3|  _c4|            _c5|       _c6|         _c7| _c8| _c9|\n",
      "+---------+----------+----------+---+-----+---------------+----------+------------+----+----+\n",
      "|300000000|139.082615| 961000000|169| 4500|         Action|2007-05-19|united_state|high| low|\n",
      "|245000000|107.376788| 880674609|148| 4466|         Action|2015-10-26|      others|high| low|\n",
      "|250000000| 112.31295|1084939099|165| 9106|         Action|2012-07-16|united_state|high| low|\n",
      "|260000000| 43.926995| 284139100|132| 2124|         Action|2012-03-07|united_state|high| low|\n",
      "|260000000| 48.681969| 591794936|100| 3330|      Animation|2010-11-24|united_state|high| low|\n",
      "|280000000|134.279229|1405403694|141| 6767|         Action|2015-04-22|united_state|high| low|\n",
      "|250000000| 98.885637| 933959197|153| 5293|      Advanture|2009-07-07|      others|high| low|\n",
      "|250000000|155.790452| 873260194|151| 7004|         Action|2016-03-23|united_state|high| low|\n",
      "|270000000| 57.925623| 391081192|154| 1400|         Action|2006-06-28|united_state|high| low|\n",
      "|200000000|107.928811| 586090727|106| 2965|      Advanture|2008-10-30|      others|high| low|\n",
      "|200000000|145.847379|1065659812|151| 5246|      Advanture|2006-06-20|      others|high| low|\n",
      "|255000000| 49.046956|  89289910|149| 2311|         Action|2013-07-03|united_state|high|high|\n",
      "|225000000| 99.398009| 662845518|143| 6359|         Action|2013-06-12|      others|high| low|\n",
      "|225000000| 53.978602| 419651413|150| 1630|      Advanture|2008-05-15|      others|high| low|\n",
      "|220000000|144.448633|1519557910|143|11776|Science fiction|2012-04-25|united_state|high| low|\n",
      "|380000000|135.413856|1045713802|136| 4948|      Advanture|2011-05-14|united_state|high| low|\n",
      "|225000000| 52.035179| 624026776|106| 4160|         Action|2012-05-23|united_state|high| low|\n",
      "|250000000|120.965743| 956019788|144| 4760|         Action|2014-12-10|      others|high| low|\n",
      "|215000000| 89.866276| 752215857|136| 6586|         Action|2012-06-27|united_state|high| low|\n",
      "|200000000| 37.668301| 310669540|140| 1398|         Action|2010-05-12|      others|high| low|\n",
      "+---------+----------+----------+---+-----+---------------+----------+------------+----+----+\n",
      "only showing top 20 rows\n",
      "\n"
     ]
    }
   ],
   "source": [
    "df.show()"
   ]
  },
  {
   "cell_type": "code",
   "execution_count": 74,
   "id": "386cd80a",
   "metadata": {},
   "outputs": [
    {
     "name": "stdout",
     "output_type": "stream",
     "text": [
      "root\n",
      " |-- budget: integer (nullable = true)\n",
      " |-- popularity: double (nullable = true)\n",
      " |-- revenue: integer (nullable = true)\n",
      " |-- runtime: integer (nullable = true)\n",
      " |-- vote_count: integer (nullable = true)\n",
      " |-- genre: string (nullable = true)\n",
      " |-- release_date: string (nullable = true)\n",
      " |-- production_country: string (nullable = true)\n",
      " |-- popularity_rank: string (nullable = true)\n",
      " |-- risk: string (nullable = true)\n",
      "\n",
      "+---------+----------+----------+-------+----------+---------------+------------+------------------+---------------+----+\n",
      "|   budget|popularity|   revenue|runtime|vote_count|          genre|release_date|production_country|popularity_rank|risk|\n",
      "+---------+----------+----------+-------+----------+---------------+------------+------------------+---------------+----+\n",
      "|300000000|139.082615| 961000000|    169|      4500|         Action|  2007-05-19|      united_state|           high| low|\n",
      "|245000000|107.376788| 880674609|    148|      4466|         Action|  2015-10-26|            others|           high| low|\n",
      "|250000000| 112.31295|1084939099|    165|      9106|         Action|  2012-07-16|      united_state|           high| low|\n",
      "|260000000| 43.926995| 284139100|    132|      2124|         Action|  2012-03-07|      united_state|           high| low|\n",
      "|260000000| 48.681969| 591794936|    100|      3330|      Animation|  2010-11-24|      united_state|           high| low|\n",
      "|280000000|134.279229|1405403694|    141|      6767|         Action|  2015-04-22|      united_state|           high| low|\n",
      "|250000000| 98.885637| 933959197|    153|      5293|      Advanture|  2009-07-07|            others|           high| low|\n",
      "|250000000|155.790452| 873260194|    151|      7004|         Action|  2016-03-23|      united_state|           high| low|\n",
      "|270000000| 57.925623| 391081192|    154|      1400|         Action|  2006-06-28|      united_state|           high| low|\n",
      "|200000000|107.928811| 586090727|    106|      2965|      Advanture|  2008-10-30|            others|           high| low|\n",
      "|200000000|145.847379|1065659812|    151|      5246|      Advanture|  2006-06-20|            others|           high| low|\n",
      "|255000000| 49.046956|  89289910|    149|      2311|         Action|  2013-07-03|      united_state|           high|high|\n",
      "|225000000| 99.398009| 662845518|    143|      6359|         Action|  2013-06-12|            others|           high| low|\n",
      "|225000000| 53.978602| 419651413|    150|      1630|      Advanture|  2008-05-15|            others|           high| low|\n",
      "|220000000|144.448633|1519557910|    143|     11776|Science fiction|  2012-04-25|      united_state|           high| low|\n",
      "|380000000|135.413856|1045713802|    136|      4948|      Advanture|  2011-05-14|      united_state|           high| low|\n",
      "|225000000| 52.035179| 624026776|    106|      4160|         Action|  2012-05-23|      united_state|           high| low|\n",
      "|250000000|120.965743| 956019788|    144|      4760|         Action|  2014-12-10|            others|           high| low|\n",
      "|215000000| 89.866276| 752215857|    136|      6586|         Action|  2012-06-27|      united_state|           high| low|\n",
      "|200000000| 37.668301| 310669540|    140|      1398|         Action|  2010-05-12|            others|           high| low|\n",
      "+---------+----------+----------+-------+----------+---------------+------------+------------------+---------------+----+\n",
      "only showing top 20 rows\n",
      "\n"
     ]
    }
   ],
   "source": [
    "# Optionally, rename columns for better clarity\n",
    "df = df.withColumnRenamed(\"_c0\", \"budget\") \\\n",
    "       .withColumnRenamed(\"_c1\", \"popularity\") \\\n",
    "       .withColumnRenamed(\"_c2\", \"revenue\") \\\n",
    "       .withColumnRenamed(\"_c3\", \"runtime\") \\\n",
    "       .withColumnRenamed(\"_c4\", \"vote_count\") \\\n",
    "       .withColumnRenamed(\"_c5\", \"genre\") \\\n",
    "       .withColumnRenamed(\"_c6\", \"release_date\") \\\n",
    "       .withColumnRenamed(\"_c7\", \"production_country\")\\\n",
    "       .withColumnRenamed(\"_c8\", \"popularity_rank\")\\\n",
    "       .withColumnRenamed(\"_c9\", \"risk\")\n",
    "# Let's get an idea of what the data looks like. \n",
    "df.printSchema()\n",
    "df.show()"
   ]
  },
  {
   "cell_type": "code",
   "execution_count": 75,
   "id": "5ffe79de",
   "metadata": {},
   "outputs": [],
   "source": [
    "from pyspark.sql import SparkSession\n",
    "from pyspark.ml.feature import StringIndexer, VectorAssembler\n",
    "from pyspark.ml.classification import DecisionTreeClassifier\n",
    "from pyspark.ml.evaluation import MulticlassClassificationEvaluator\n",
    "\n",
    "# Initialize Spark Session\n",
    "spark = SparkSession.builder.appName(\"DecisionTreeExample\").getOrCreate()\n",
    "\n",
    "\n",
    "# Convert categorical columns into numerical representations\n",
    "indexer_genre = StringIndexer(inputCol=\"genre\", outputCol=\"genre_index\")\n",
    "indexer_country = StringIndexer(inputCol=\"production_country\", outputCol=\"country_index\")\n",
    "indexer_risk = StringIndexer(inputCol=\"risk\", outputCol=\"risk_index\")\n",
    "indexer_rank = StringIndexer(inputCol=\"popularity_rank\", outputCol=\"rank_index\")\n",
    "\n",
    "# Apply StringIndexer transformations\n",
    "df = indexer_genre.fit(df).transform(df)\n",
    "df = indexer_country.fit(df).transform(df)\n",
    "df = indexer_risk.fit(df).transform(df)\n",
    "df = indexer_rank.fit(df).transform(df)"
   ]
  },
  {
   "cell_type": "code",
   "execution_count": 76,
   "id": "37d0a797",
   "metadata": {},
   "outputs": [
    {
     "name": "stdout",
     "output_type": "stream",
     "text": [
      "+---------+----------+----------+-------+----------+---------------+------------+------------------+---------------+----+-----------+-------------+----------+----------+\n",
      "|   budget|popularity|   revenue|runtime|vote_count|          genre|release_date|production_country|popularity_rank|risk|genre_index|country_index|risk_index|rank_index|\n",
      "+---------+----------+----------+-------+----------+---------------+------------+------------------+---------------+----+-----------+-------------+----------+----------+\n",
      "|300000000|139.082615| 961000000|    169|      4500|         Action|  2007-05-19|      united_state|           high| low|        1.0|          0.0|       0.0|       0.0|\n",
      "|245000000|107.376788| 880674609|    148|      4466|         Action|  2015-10-26|            others|           high| low|        1.0|          1.0|       0.0|       0.0|\n",
      "|250000000| 112.31295|1084939099|    165|      9106|         Action|  2012-07-16|      united_state|           high| low|        1.0|          0.0|       0.0|       0.0|\n",
      "|260000000| 43.926995| 284139100|    132|      2124|         Action|  2012-03-07|      united_state|           high| low|        1.0|          0.0|       0.0|       0.0|\n",
      "|260000000| 48.681969| 591794936|    100|      3330|      Animation|  2010-11-24|      united_state|           high| low|        6.0|          0.0|       0.0|       0.0|\n",
      "|280000000|134.279229|1405403694|    141|      6767|         Action|  2015-04-22|      united_state|           high| low|        1.0|          0.0|       0.0|       0.0|\n",
      "|250000000| 98.885637| 933959197|    153|      5293|      Advanture|  2009-07-07|            others|           high| low|        3.0|          1.0|       0.0|       0.0|\n",
      "|250000000|155.790452| 873260194|    151|      7004|         Action|  2016-03-23|      united_state|           high| low|        1.0|          0.0|       0.0|       0.0|\n",
      "|270000000| 57.925623| 391081192|    154|      1400|         Action|  2006-06-28|      united_state|           high| low|        1.0|          0.0|       0.0|       0.0|\n",
      "|200000000|107.928811| 586090727|    106|      2965|      Advanture|  2008-10-30|            others|           high| low|        3.0|          1.0|       0.0|       0.0|\n",
      "|200000000|145.847379|1065659812|    151|      5246|      Advanture|  2006-06-20|            others|           high| low|        3.0|          1.0|       0.0|       0.0|\n",
      "|255000000| 49.046956|  89289910|    149|      2311|         Action|  2013-07-03|      united_state|           high|high|        1.0|          0.0|       1.0|       0.0|\n",
      "|225000000| 99.398009| 662845518|    143|      6359|         Action|  2013-06-12|            others|           high| low|        1.0|          1.0|       0.0|       0.0|\n",
      "|225000000| 53.978602| 419651413|    150|      1630|      Advanture|  2008-05-15|            others|           high| low|        3.0|          1.0|       0.0|       0.0|\n",
      "|220000000|144.448633|1519557910|    143|     11776|Science fiction|  2012-04-25|      united_state|           high| low|        4.0|          0.0|       0.0|       0.0|\n",
      "|380000000|135.413856|1045713802|    136|      4948|      Advanture|  2011-05-14|      united_state|           high| low|        3.0|          0.0|       0.0|       0.0|\n",
      "|225000000| 52.035179| 624026776|    106|      4160|         Action|  2012-05-23|      united_state|           high| low|        1.0|          0.0|       0.0|       0.0|\n",
      "|250000000|120.965743| 956019788|    144|      4760|         Action|  2014-12-10|            others|           high| low|        1.0|          1.0|       0.0|       0.0|\n",
      "|215000000| 89.866276| 752215857|    136|      6586|         Action|  2012-06-27|      united_state|           high| low|        1.0|          0.0|       0.0|       0.0|\n",
      "|200000000| 37.668301| 310669540|    140|      1398|         Action|  2010-05-12|            others|           high| low|        1.0|          1.0|       0.0|       0.0|\n",
      "+---------+----------+----------+-------+----------+---------------+------------+------------------+---------------+----+-----------+-------------+----------+----------+\n",
      "only showing top 20 rows\n",
      "\n"
     ]
    }
   ],
   "source": [
    "df.show()"
   ]
  },
  {
   "cell_type": "code",
   "execution_count": 77,
   "id": "a3204d03",
   "metadata": {},
   "outputs": [
    {
     "name": "stdout",
     "output_type": "stream",
     "text": [
      "+---------+----------+----------+-------+----------+---------------+------------+------------------+---------------+----+-----------+-------------+----------+----------+-------+-------+-------+-------+-------+-------+-------+-------+-------+--------+--------+\n",
      "|   budget|popularity|   revenue|runtime|vote_count|          genre|release_date|production_country|popularity_rank|risk|genre_index|country_index|risk_index|rank_index|genre_1|genre_2|genre_3|genre_4|genre_5|genre_6|genre_7|genre_8|genre_9|genre_10|genre_11|\n",
      "+---------+----------+----------+-------+----------+---------------+------------+------------------+---------------+----+-----------+-------------+----------+----------+-------+-------+-------+-------+-------+-------+-------+-------+-------+--------+--------+\n",
      "|300000000|139.082615| 961000000|    169|      4500|         Action|  2007-05-19|      united_state|           high| low|        1.0|          0.0|       0.0|       0.0|      1|      0|      0|      0|      0|      0|      0|      0|      0|       0|       0|\n",
      "|245000000|107.376788| 880674609|    148|      4466|         Action|  2015-10-26|            others|           high| low|        1.0|          1.0|       0.0|       0.0|      1|      0|      0|      0|      0|      0|      0|      0|      0|       0|       0|\n",
      "|250000000| 112.31295|1084939099|    165|      9106|         Action|  2012-07-16|      united_state|           high| low|        1.0|          0.0|       0.0|       0.0|      1|      0|      0|      0|      0|      0|      0|      0|      0|       0|       0|\n",
      "|260000000| 43.926995| 284139100|    132|      2124|         Action|  2012-03-07|      united_state|           high| low|        1.0|          0.0|       0.0|       0.0|      1|      0|      0|      0|      0|      0|      0|      0|      0|       0|       0|\n",
      "|260000000| 48.681969| 591794936|    100|      3330|      Animation|  2010-11-24|      united_state|           high| low|        6.0|          0.0|       0.0|       0.0|      0|      0|      0|      0|      0|      1|      0|      0|      0|       0|       0|\n",
      "|280000000|134.279229|1405403694|    141|      6767|         Action|  2015-04-22|      united_state|           high| low|        1.0|          0.0|       0.0|       0.0|      1|      0|      0|      0|      0|      0|      0|      0|      0|       0|       0|\n",
      "|250000000| 98.885637| 933959197|    153|      5293|      Advanture|  2009-07-07|            others|           high| low|        3.0|          1.0|       0.0|       0.0|      0|      0|      1|      0|      0|      0|      0|      0|      0|       0|       0|\n",
      "|250000000|155.790452| 873260194|    151|      7004|         Action|  2016-03-23|      united_state|           high| low|        1.0|          0.0|       0.0|       0.0|      1|      0|      0|      0|      0|      0|      0|      0|      0|       0|       0|\n",
      "|270000000| 57.925623| 391081192|    154|      1400|         Action|  2006-06-28|      united_state|           high| low|        1.0|          0.0|       0.0|       0.0|      1|      0|      0|      0|      0|      0|      0|      0|      0|       0|       0|\n",
      "|200000000|107.928811| 586090727|    106|      2965|      Advanture|  2008-10-30|            others|           high| low|        3.0|          1.0|       0.0|       0.0|      0|      0|      1|      0|      0|      0|      0|      0|      0|       0|       0|\n",
      "|200000000|145.847379|1065659812|    151|      5246|      Advanture|  2006-06-20|            others|           high| low|        3.0|          1.0|       0.0|       0.0|      0|      0|      1|      0|      0|      0|      0|      0|      0|       0|       0|\n",
      "|255000000| 49.046956|  89289910|    149|      2311|         Action|  2013-07-03|      united_state|           high|high|        1.0|          0.0|       1.0|       0.0|      1|      0|      0|      0|      0|      0|      0|      0|      0|       0|       0|\n",
      "|225000000| 99.398009| 662845518|    143|      6359|         Action|  2013-06-12|            others|           high| low|        1.0|          1.0|       0.0|       0.0|      1|      0|      0|      0|      0|      0|      0|      0|      0|       0|       0|\n",
      "|225000000| 53.978602| 419651413|    150|      1630|      Advanture|  2008-05-15|            others|           high| low|        3.0|          1.0|       0.0|       0.0|      0|      0|      1|      0|      0|      0|      0|      0|      0|       0|       0|\n",
      "|220000000|144.448633|1519557910|    143|     11776|Science fiction|  2012-04-25|      united_state|           high| low|        4.0|          0.0|       0.0|       0.0|      0|      0|      0|      1|      0|      0|      0|      0|      0|       0|       0|\n",
      "|380000000|135.413856|1045713802|    136|      4948|      Advanture|  2011-05-14|      united_state|           high| low|        3.0|          0.0|       0.0|       0.0|      0|      0|      1|      0|      0|      0|      0|      0|      0|       0|       0|\n",
      "|225000000| 52.035179| 624026776|    106|      4160|         Action|  2012-05-23|      united_state|           high| low|        1.0|          0.0|       0.0|       0.0|      1|      0|      0|      0|      0|      0|      0|      0|      0|       0|       0|\n",
      "|250000000|120.965743| 956019788|    144|      4760|         Action|  2014-12-10|            others|           high| low|        1.0|          1.0|       0.0|       0.0|      1|      0|      0|      0|      0|      0|      0|      0|      0|       0|       0|\n",
      "|215000000| 89.866276| 752215857|    136|      6586|         Action|  2012-06-27|      united_state|           high| low|        1.0|          0.0|       0.0|       0.0|      1|      0|      0|      0|      0|      0|      0|      0|      0|       0|       0|\n",
      "|200000000| 37.668301| 310669540|    140|      1398|         Action|  2010-05-12|            others|           high| low|        1.0|          1.0|       0.0|       0.0|      1|      0|      0|      0|      0|      0|      0|      0|      0|       0|       0|\n",
      "+---------+----------+----------+-------+----------+---------------+------------+------------------+---------------+----+-----------+-------------+----------+----------+-------+-------+-------+-------+-------+-------+-------+-------+-------+--------+--------+\n",
      "only showing top 20 rows\n",
      "\n"
     ]
    }
   ],
   "source": [
    "from pyspark.sql.functions import col, when, lit\n",
    "\n",
    "# Get unique genre numbers\n",
    "unique_genre_numbers = df.select(\"genre_index\").distinct().count()\n",
    "\n",
    "# Iterate over each unique genre number and create a new column with 1 for true and 0 for false\n",
    "for i in range(1, unique_genre_numbers + 1):\n",
    "    genre_col = f\"genre_{i}\"\n",
    "    df = df.withColumn(genre_col, when(col(\"genre_index\") == i, lit(1)).otherwise(lit(0)))\n",
    "\n",
    "# Show the DataFrame with encoded genres\n",
    "df.show()"
   ]
  },
  {
   "cell_type": "code",
   "execution_count": 78,
   "id": "92842e58",
   "metadata": {},
   "outputs": [
    {
     "name": "stdout",
     "output_type": "stream",
     "text": [
      "root\n",
      " |-- budget: integer (nullable = true)\n",
      " |-- popularity: double (nullable = true)\n",
      " |-- revenue: integer (nullable = true)\n",
      " |-- runtime: integer (nullable = true)\n",
      " |-- vote_count: integer (nullable = true)\n",
      " |-- genre: string (nullable = true)\n",
      " |-- release_date: string (nullable = true)\n",
      " |-- production_country: string (nullable = true)\n",
      " |-- popularity_rank: string (nullable = true)\n",
      " |-- risk: string (nullable = true)\n",
      " |-- genre_index: double (nullable = false)\n",
      " |-- country_index: double (nullable = false)\n",
      " |-- risk_index: double (nullable = false)\n",
      " |-- rank_index: double (nullable = false)\n",
      " |-- genre_1: integer (nullable = false)\n",
      " |-- genre_2: integer (nullable = false)\n",
      " |-- genre_3: integer (nullable = false)\n",
      " |-- genre_4: integer (nullable = false)\n",
      " |-- genre_5: integer (nullable = false)\n",
      " |-- genre_6: integer (nullable = false)\n",
      " |-- genre_7: integer (nullable = false)\n",
      " |-- genre_8: integer (nullable = false)\n",
      " |-- genre_9: integer (nullable = false)\n",
      " |-- genre_10: integer (nullable = false)\n",
      " |-- genre_11: integer (nullable = false)\n",
      "\n",
      "+-------+\n",
      "|genre_2|\n",
      "+-------+\n",
      "|      1|\n",
      "|      0|\n",
      "+-------+\n",
      "\n"
     ]
    }
   ],
   "source": [
    "df.printSchema()\n",
    "# Check unique values in the genre_1 column\n",
    "df.select('genre_2').distinct().show()"
   ]
  },
  {
   "cell_type": "code",
   "execution_count": 80,
   "id": "51c5b2a6",
   "metadata": {},
   "outputs": [
    {
     "name": "stdout",
     "output_type": "stream",
     "text": [
      "+--------------+----------+\n",
      "|      features|rank_index|\n",
      "+--------------+----------+\n",
      "|(11,[0],[1.0])|       0.0|\n",
      "|(11,[0],[1.0])|       0.0|\n",
      "|(11,[0],[1.0])|       0.0|\n",
      "|(11,[0],[1.0])|       0.0|\n",
      "|(11,[5],[1.0])|       0.0|\n",
      "|(11,[0],[1.0])|       0.0|\n",
      "|(11,[2],[1.0])|       0.0|\n",
      "|(11,[0],[1.0])|       0.0|\n",
      "|(11,[0],[1.0])|       0.0|\n",
      "|(11,[2],[1.0])|       0.0|\n",
      "|(11,[2],[1.0])|       0.0|\n",
      "|(11,[0],[1.0])|       0.0|\n",
      "|(11,[0],[1.0])|       0.0|\n",
      "|(11,[2],[1.0])|       0.0|\n",
      "|(11,[3],[1.0])|       0.0|\n",
      "|(11,[2],[1.0])|       0.0|\n",
      "|(11,[0],[1.0])|       0.0|\n",
      "|(11,[0],[1.0])|       0.0|\n",
      "|(11,[0],[1.0])|       0.0|\n",
      "|(11,[0],[1.0])|       0.0|\n",
      "+--------------+----------+\n",
      "only showing top 20 rows\n",
      "\n",
      "Decision Tree Model:\n",
      "DecisionTreeClassificationModel: uid=DecisionTreeClassifier_9b887282946d, depth=1, numNodes=3, numClasses=2, numFeatures=11\n",
      "  If (feature 8 <= 0.5)\n",
      "   Predict: 0.0\n",
      "  Else (feature 8 > 0.5)\n",
      "   Predict: 1.0\n",
      "\n",
      "Test Accuracy = 0.9953379953379954\n"
     ]
    }
   ],
   "source": [
    "\n",
    "# List of feature column names\n",
    "all_feature_columns = ['genre_1', 'genre_2', 'genre_3', 'genre_4', 'genre_5','genre_6', 'genre_7', 'genre_8', 'genre_9', 'genre_10', 'genre_11']\n",
    "\n",
    "assembler = VectorAssembler(inputCols=all_feature_columns, outputCol=\"features\")\n",
    "data = assembler.transform(df)\n",
    "\n",
    "# Select features and label\n",
    "data = data.select(\"features\", \"rank_index\")\n",
    "data.show()\n",
    "# Split the data\n",
    "train_data, test_data = data.randomSplit([0.8, 0.2], seed=1234)\n",
    "\n",
    "# Create and train the Decision Tree model\n",
    "dt = DecisionTreeClassifier(featuresCol=\"features\", labelCol=\"rank_index\", predictionCol=\"prediction\")\n",
    "model = dt.fit(train_data)\n",
    "\n",
    "# Make predictions\n",
    "predictions = model.transform(test_data)\n",
    "\n",
    "# Get the string representation of the decision tree\n",
    "tree_str = model.toDebugString\n",
    "\n",
    "# Print the decision tree\n",
    "print(\"Decision Tree Model:\")\n",
    "print(tree_str)\n",
    "\n",
    "\n",
    "# Evaluate the model\n",
    "evaluator = MulticlassClassificationEvaluator(labelCol=\"rank_index\", predictionCol=\"prediction\", metricName=\"accuracy\")\n",
    "accuracy = evaluator.evaluate(predictions)\n",
    "print(f\"Test Accuracy = {accuracy}\")\n",
    "\n",
    "# Stop the Spark session\n",
    "spark.stop()"
   ]
  }
 ],
 "metadata": {
  "kernelspec": {
   "display_name": "Python 3 (ipykernel)",
   "language": "python",
   "name": "python3"
  },
  "language_info": {
   "codemirror_mode": {
    "name": "ipython",
    "version": 3
   },
   "file_extension": ".py",
   "mimetype": "text/x-python",
   "name": "python",
   "nbconvert_exporter": "python",
   "pygments_lexer": "ipython3",
   "version": "3.10.4"
  }
 },
 "nbformat": 4,
 "nbformat_minor": 5
}
